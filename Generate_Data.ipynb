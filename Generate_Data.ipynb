{
 "cells": [
  {
   "cell_type": "code",
   "execution_count": 1,
   "id": "b520601b",
   "metadata": {},
   "outputs": [],
   "source": [
    "%matplotlib inline\n",
    "import numpy as np                  \n",
    "import matplotlib.pyplot as plt     \n",
    "import random   \n",
    "import math\n",
    "from tqdm import tqdm\n",
    "\n",
    "\n",
    "from keras.datasets import mnist    \n",
    "from keras.models import Sequential \n",
    "\n",
    "#from keras.layers.core import Dense, Dropout, Activation \n",
    "#from keras.utils import np_utils  \n",
    "\n",
    "import tensorflow as tf\n",
    "from tensorflow.keras.models import Sequential\n",
    "from tensorflow.keras.layers import Dense, Dropout, Activation, Flatten, Conv2D, MaxPooling2D\n",
    "import matplotlib.pyplot as plt\n",
    "import pickle\n",
    "from sklearn.model_selection import train_test_split\n",
    "\n",
    "import matplotlib.image as mpimg\n",
    "import scipy.ndimage as ndi\n",
    "\n",
    "from keras.models import Sequential\n",
    "from keras.layers import Dense\n",
    "from keras import backend as K\n",
    "import keras\n",
    "\n",
    "from sklearn.metrics import mean_squared_error\n",
    "from scipy.optimize import curve_fit\n",
    "from numba import jit\n",
    "pi = math.pi\n",
    "\n",
    "import random\n",
    "#from cv2 import cv2\n",
    "import cv2\n",
    "import scipy.stats\n",
    "import seaborn as sns\n",
    "\n",
    "from nexusformat.nexus import *\n",
    "from matplotlib.patches import Circle\n",
    "\n"
   ]
  },
  {
   "cell_type": "markdown",
   "id": "a3734e99",
   "metadata": {},
   "source": [
    "# Parameters"
   ]
  },
  {
   "cell_type": "code",
   "execution_count": 2,
   "id": "2b1676db",
   "metadata": {},
   "outputs": [],
   "source": [
    "a_bulk = 3.905 #SrTiO3 is the bulk\n",
    "a = a_bulk\n",
    "\n",
    "c_bulk = 3.905 \n",
    "c_surf = 3.79 #LaAlO3\n",
    "\n",
    "#Nc = 1000\n",
    "N_bulk = 8 + 1 #the plus 1 is the dummyy layer\n",
    "N_surface = 4\n",
    "#total 12 layer film (vary)\n",
    "\n",
    "#rn describes the bulk atomic xyz positions\n",
    "r1 = [0, 0, 0] #Sr\n",
    "r2 = [0.5, 0.5, 0.5] #Ti\n",
    "r3 = [0.5, 0.5, 0] #O\n",
    "r4 = [0, 0.5, 0.5] #O\n",
    "r5 = [0.5, 0, 0.5] #O\n",
    "\n",
    "#hard setting the base atom position of the variable bulk and surface\n",
    "rb1 = [[0, 0, 0]] * N_bulk\n",
    "s1 = [[0, 0, 0]] * N_surface\n",
    "\n",
    "#variation of atomic positions\n",
    "#v = 0.05"
   ]
  },
  {
   "cell_type": "code",
   "execution_count": 3,
   "id": "7c3b4ec0",
   "metadata": {},
   "outputs": [
    {
     "name": "stdout",
     "output_type": "stream",
     "text": [
      "XY Dimension:  16\n",
      "Z Dimension:  240\n",
      "Total Points:  3840\n"
     ]
    }
   ],
   "source": [
    "#creating q mesh\n",
    "a_SrTiO3 = 3.905\n",
    "a = a_SrTiO3\n",
    "dqz = 0.025 * (2*pi/a_SrTiO3)\n",
    "z_size = 6 * (2*pi/a_SrTiO3)\n",
    "\n",
    "\n",
    "\n",
    "rod_dimension = 4\n",
    "dqxy = (2*pi)/a_SrTiO3\n",
    "xy_size = (rod_dimension-1)*dqxy\n",
    "\n",
    "\n",
    "x = np.linspace(0, xy_size, rod_dimension)\n",
    "y = x\n",
    "z = np.linspace(dqz, z_size, round(z_size/dqz))\n",
    "\n",
    "\n",
    "[qx, qy, qz] = np.meshgrid(x, y, z)\n",
    "\n",
    "z_dim = qx.shape[2]\n",
    "xy_dim = qx.shape[0] * qx.shape[1]\n",
    "\n",
    "\n",
    "print(\"XY Dimension: \", qx.shape[0]* qx.shape[1] )\n",
    "print(\"Z Dimension: \", qx.shape[2] )\n",
    "print(\"Total Points: \", qx.shape[0]* qx.shape[1] *qx.shape[2] )"
   ]
  },
  {
   "cell_type": "code",
   "execution_count": 4,
   "id": "a7484008",
   "metadata": {},
   "outputs": [],
   "source": [
    "q_mag_squared_term = (qx**2 + qy**2 + qz**2)/((4*pi)**2)\n",
    "def get_fq(a_arr, b_arr, c_val):\n",
    "    fq = np.zeros(qx.shape)\n",
    "    for i in range(4):\n",
    "        fq += a_arr[i] * np.exp(-b_arr[i] * q_mag_squared_term ) \n",
    "    fq += c_val\n",
    "    return fq"
   ]
  },
  {
   "cell_type": "code",
   "execution_count": 5,
   "id": "66c205db",
   "metadata": {},
   "outputs": [],
   "source": [
    "# Define the file path\n",
    "file_path = 'LSMO_newdat2.XYZ'  # Replace with the actual file path\n",
    "\n",
    "with open(file_path, 'r') as xyz_file:\n",
    "    lines = xyz_file.readlines()[2:] # Skipping the first two lines"
   ]
  },
  {
   "cell_type": "code",
   "execution_count": 6,
   "id": "f4233be8",
   "metadata": {},
   "outputs": [],
   "source": [
    "label = []\n",
    "x_cobra = []\n",
    "y_cobra = []\n",
    "z_cobra = []\n",
    "DW_factor = []\n",
    "p_cobra = []\n",
    "\n",
    "for i in range(len(lines)):\n",
    "    row = lines[i]\n",
    "    arr = row.split()\n",
    "    label.append((arr[0]))\n",
    "    x_cobra.append(float(arr[1]))\n",
    "    y_cobra.append(float(arr[2]))\n",
    "    z_cobra.append(float(arr[3]))\n",
    "    DW_factor.append(float(arr[4]))\n",
    "    p_cobra.append(float(arr[5]))\n",
    "    \n",
    "    \n",
    "U_sr = DW_factor[0]\n",
    "U_la = DW_factor[1]\n",
    "U_o1 = DW_factor[2]\n",
    "U_ti = DW_factor[3]\n",
    "U_mn = DW_factor[4]\n",
    "U_o3 = DW_factor[5]\n",
    "U_o2 = DW_factor[6]"
   ]
  },
  {
   "cell_type": "code",
   "execution_count": 7,
   "id": "ea9aad8a",
   "metadata": {},
   "outputs": [],
   "source": [
    "#Definining DW Factors\n",
    "q_squared = (qx**2 + qy**2 + qz**2)\n",
    "\n",
    "\n",
    "DW_sr = np.exp( (-1/2)*q_squared* U_sr  )\n",
    "DW_la = np.exp( (-1/2)*q_squared* U_la  )\n",
    "DW_ti = np.exp( (-1/2)*q_squared* U_ti  )\n",
    "DW_mn = np.exp( (-1/2)*q_squared* U_mn  )\n",
    "DW_o1 = np.exp( (-1/2)*q_squared* U_o1  )\n",
    "DW_o2 = np.exp( (-1/2)*q_squared* U_o2  )\n",
    "DW_o3 = np.exp( (-1/2)*q_squared* U_o3  )"
   ]
  },
  {
   "cell_type": "code",
   "execution_count": 8,
   "id": "b27d0681",
   "metadata": {},
   "outputs": [],
   "source": [
    "#change to whatever bulk and surface you're using \n",
    "a_Sr = [18.0874, 8.1373, 2.5654, -34.193]\n",
    "b_Sr = [1.4907, 12.6963, 24.5651, -0.0138]\n",
    "c_Sr = 41.4025\n",
    "\n",
    "a_Ti = [19.5114, 8.23473, 2.01341, 1.5208]\n",
    "b_Ti = [0.178847, 6.67018, -0.29263, 12.9464]\n",
    "c_Ti = -13.28\n",
    "\n",
    "a_O = [3.0485, 2.2868, 1.5463, 0.867]\n",
    "b_O = [13.2771, 5.7011, 0.3239, 32.9089]\n",
    "c_O = 0.2508\n",
    "\n",
    "a_La = [20.2489, 19.3763, 11.6323, 0.336048]\n",
    "b_La = [2.9207, 0.250698, 17.8211, 54.9453]\n",
    "c_La = 2.4086\n",
    "\n",
    "a_Al = [4.17448, 3.3876, 1.20296, 0.528137]\n",
    "b_Al = [1.93816, 4.14553, 0.228753, 8.28524]\n",
    "c_Al = 0.706786\n",
    "\n",
    "fq_Sr = get_fq(a_Sr, b_Sr, c_Sr)\n",
    "fq_Ti = get_fq(a_Ti, b_Ti, c_Ti)\n",
    "fq_O =  get_fq(a_O, b_O, c_O)\n",
    "fq_La = get_fq(a_La, b_La, c_La)\n",
    "fq_Al =  get_fq(a_Al, b_Al, c_Al)\n",
    "\n",
    "#fq for the bulk and surface\n",
    "#fq_b = [fq_Sr, fq_Ti, fq_O, fq_O, fq_O]\n",
    "#fq_s = [fq_La, fq_Al, fq_O, fq_O, fq_O]\n",
    "\n",
    "fq_b = [fq_Sr*DW_sr, fq_Ti*DW_ti, fq_O*DW_o1, fq_O*DW_o2, fq_O*DW_o3]\n",
    "fq_s = [fq_La*DW_la, fq_Al*DW_mn, fq_O*DW_o1, fq_O*DW_o2, fq_O*DW_o3]\n"
   ]
  },
  {
   "cell_type": "code",
   "execution_count": 9,
   "id": "8d82c038",
   "metadata": {},
   "outputs": [],
   "source": [
    "#an array that is zero at the bragg peaks and one everywhere else\n",
    "#inverse is the opposite\n",
    "bragg_peak_arr = np.ones(qx.shape)\n",
    "bragg_peak_arr_inverse = np.zeros(qx.shape)\n",
    "\n",
    "for i in range(len(bragg_peak_arr)):\n",
    "    for j in range(len(bragg_peak_arr[0])):\n",
    "        for k in range(len(bragg_peak_arr[0][0])):\n",
    "            if np.allclose(z[k]/(2*pi/a_bulk) % 1,  0):\n",
    "                bragg_peak_arr[i][j][k] = 0\n",
    "                bragg_peak_arr_inverse[i][j][k] = 1\n",
    "                \n",
    "                \n",
    "bragg_peak_arr_flat = bragg_peak_arr.reshape(xy_dim, z_dim)"
   ]
  },
  {
   "cell_type": "markdown",
   "id": "20d9c561",
   "metadata": {},
   "source": [
    "# Simulation Methods"
   ]
  },
  {
   "cell_type": "code",
   "execution_count": 10,
   "id": "6d0d320a",
   "metadata": {},
   "outputs": [],
   "source": [
    "#Z scattering\n",
    "#z_scat_bulk = np.zeros(qx.shape)\n",
    "#z_scat_bulk = 0.5/np.sin(c_bulk*qz/2)\n",
    "\n",
    "#simulate general ctr scattering \n",
    "def createCTR_allr(r1, r2, r3, r4, r5, rb1, rb2, rb3, rb4, rb5, s1, s2, s3, s4, s5, cn_bulk, cn_surf, mix):\n",
    "    \n",
    "   \n",
    "    z_scat_bulk = np.zeros(qx.shape,dtype=np.complex_)\n",
    "\n",
    "    nom = 1\n",
    "    denom = (np.exp(1j * qz * c_bulk)-1)\n",
    "    z_scat_bulk = (nom/denom)\n",
    "        \n",
    "        \n",
    "    F_q_bulk = np.zeros(qx.shape)\n",
    "\n",
    "    F_q_bulk = F_q_bulk + fq_b[0]*np.exp( 1j * a_bulk*(qx*r1[0] + qy*r1[1] + qz*r1[2])) #Sr\n",
    "    F_q_bulk = F_q_bulk + fq_b[1]*np.exp( 1j * a_bulk*(qx*r2[0] + qy*r2[1] + qz*r2[2])) #Ti\n",
    "    F_q_bulk = F_q_bulk + fq_b[2]*np.exp( 1j * a_bulk*(qx*r3[0] + qy*r3[1] + qz*r3[2])) #O\n",
    "    F_q_bulk = F_q_bulk + fq_b[3]*np.exp( 1j * a_bulk*(qx*r4[0] + qy*r4[1] + qz*r4[2])) #O\n",
    "    F_q_bulk = F_q_bulk + fq_b[4]*np.exp( 1j * a_bulk*(qx*r5[0] + qy*r5[1] + qz*r5[2])) #O\n",
    "    \n",
    "    bulk = z_scat_bulk*F_q_bulk \n",
    "    \n",
    "    #-------\n",
    "    \n",
    "    c_sum = 0\n",
    "    bulk_variable = np.zeros(qx.shape)\n",
    "    for i in range(0, N_bulk):\n",
    "            \n",
    "        F_q_bulk_var = np.zeros(qx.shape)\n",
    "        f_mixed = (1-mix[i])*fq_s[0] + mix[i]*fq_b[0]\n",
    "        F_q_bulk_var = F_q_bulk_var + f_mixed*np.exp( 1j * a_bulk*(qx*rb1[i][0] + qy*rb1[i][1]) + 1j*cn_bulk[i]*(qz*rb1[i][2])) #Sr\n",
    "\n",
    "        F_q_bulk_var = F_q_bulk_var + fq_b[1]*np.exp( 1j * a_bulk*(qx*rb2[i][0] + qy*rb2[i][1]) +  1j*cn_bulk[i]*(qz*rb2[i][2])) #Ti\n",
    "        F_q_bulk_var = F_q_bulk_var + fq_b[2]*np.exp( 1j*   a_bulk*(qx*rb3[i][0] + qy*rb3[i][1]) + 1j*cn_bulk[i]*(qz*rb3[i][2])) #O\n",
    "        F_q_bulk_var = F_q_bulk_var + fq_b[3]*np.exp( 1j *  a_bulk*(qx*rb4[i][0] + qy*rb4[i][1]) + 1j*cn_bulk[i]*(qz*rb4[i][2])) #O\n",
    "        F_q_bulk_var = F_q_bulk_var + fq_b[4]*np.exp( 1j *  a_bulk*(qx*rb5[i][0] + qy*rb5[i][1]) + 1j*cn_bulk[i]*(qz*rb5[i][2])) #O\n",
    "\n",
    "        bulk_variable = bulk_variable + F_q_bulk_var*np.exp(1j* qz * c_sum)\n",
    "        c_sum += cn_bulk[i]\n",
    "    #-----\n",
    "    \n",
    "    \n",
    "    \n",
    "    surface = np.zeros(qx.shape)\n",
    "    for i in range(N_bulk, N_bulk + N_surface):\n",
    "        \n",
    "        #if there's mixing\n",
    "        F_q_surf = np.zeros(qx.shape)\n",
    "        f_mixed = (1-mix[i])*fq_s[0] + mix[i]*fq_b[0]\n",
    "        F_q_surf = F_q_surf + f_mixed*np.exp( 1j * a_bulk*(qx*s1[i - N_bulk][0] + qy*s1[i - N_bulk][1]) + 1j*cn_surf[i - N_bulk]*(qz*s1[i - N_bulk][2])) #La\n",
    "        F_q_surf = F_q_surf + fq_s[1]*np.exp( 1j * a_bulk*(qx*s2[i - N_bulk][0] + qy*s2[i - N_bulk][1]) + 1j*cn_surf[i - N_bulk]*(qz*s2[i - N_bulk][2])) #Al\n",
    "        F_q_surf = F_q_surf + fq_s[2]*np.exp( 1j*   a_bulk*(qx*s3[i - N_bulk][0] + qy*s3[i - N_bulk][1]) + 1j*cn_surf[i - N_bulk]*(qz*s3[i - N_bulk][2])) #O\n",
    "        F_q_surf = F_q_surf + fq_s[3]*np.exp( 1j *  a_bulk*(qx*s4[i - N_bulk][0] + qy*s4[i - N_bulk][1]) + 1j*cn_surf[i - N_bulk]*(qz*s4[i - N_bulk][2])) #O\n",
    "        F_q_surf = F_q_surf + fq_s[4]*np.exp( 1j *  a_bulk*(qx*s5[i - N_bulk][0] + qy*s5[i - N_bulk][1]) + 1j*cn_surf[i - N_bulk]*(qz*s5[i - N_bulk][2])) #O\n",
    "\n",
    "        surface = surface + F_q_surf*np.exp(1j * qz * c_sum)\n",
    "        c_sum += cn_surf[i - N_bulk]\n",
    "    \n",
    "\n",
    "    e_field = (bulk + bulk_variable + surface)\n",
    "    ctr = np.abs(bulk + bulk_variable + surface) ** 2\n",
    "    phase = np.angle(e_field)\n",
    "        \n",
    "    \n",
    "    return ctr, e_field, phase\n",
    "\n",
    "\n",
    "\n",
    "\n",
    "def createCTR_reshaped_log_allr(r1, r2, r3, r4, r5, rb1, rb2, rb3, rb4, rb5, s1, s2, s3, s4, s5, cn_bulk, cn_surf, mix, beta):\n",
    "    \n",
    "   \n",
    "    \n",
    "    epsilon = 0.00\n",
    "    \n",
    "    ctr, e_field, phase = createCTR_allr(r1, r2, r3, r4, r5, \n",
    "                    rb1, rb2, rb3, rb4, rb5, \n",
    "                    s1, s2, s3, s4, s5, cn_bulk, cn_surf, mix)\n",
    "    \n",
    "    ctr_reshaped = ctr.reshape(xy_dim, z_dim)\n",
    "    #Roughness parameter\n",
    "    for rod in range(len(ctr_reshaped)):\n",
    "        for l in range(len(ctr_reshaped[0])):\n",
    "            scaling_factor = (1-beta**2)/(1 + beta**2 - 2*beta*np.cos(z[l] * c_surf))\n",
    "            ctr_reshaped[rod][l] *=  scaling_factor\n",
    "            \n",
    "    return np.log(ctr_reshaped + epsilon), e_field, phase\n",
    "\n",
    "\n",
    "def generatePs():\n",
    "    generated = False\n",
    "    betaVal = 0.75\n",
    "    while (not generated):\n",
    "        p1 = np.random.beta(betaVal, betaVal)\n",
    "        p2 = np.random.beta(betaVal, betaVal)\n",
    "        p3 = np.random.beta(betaVal, betaVal)\n",
    "        p4 = np.random.beta(betaVal, betaVal)\n",
    "        tot = (p1 + p2 + p3 + p4)/2\n",
    "        p1/=tot\n",
    "        p2/=tot\n",
    "        p3/=tot\n",
    "        p4/=tot\n",
    "        if (p1 > 1 or p2 > 1 or p3 > 1 or p4 > 1):\n",
    "            continue\n",
    "        generated = True\n",
    "        \n",
    "    return p1, p2, p3, p4\n",
    "\n",
    "def generateCs(c, n, v):\n",
    "    c_arr = [c] * n\n",
    "    for i in range(n):\n",
    "        c_arr[i] = random.uniform(c-v, c+v)\n",
    "        \n",
    "    return c_arr\n",
    "        \n",
    "def removeBraggPeaks(CTR, thresh):\n",
    "    peak_locations = []\n",
    "    for i in range(len(CTR[0])):\n",
    "        if CTR[0][i] > thresh:\n",
    "            peak_locations.append(i)\n",
    "\n",
    "    return np.delete(CTR, peak_locations, axis = 1)\n",
    "\n",
    "def generatePositions(positions, v, n):\n",
    "    defaultPos = np.array([positions] * n)\n",
    "   \n",
    "    for i in range(n):\n",
    "        #2 because we change the z position\n",
    "        defaultPos[i][2] = random.uniform(positions[2]-v, positions[2]+v)\n",
    "    return defaultPos\n",
    "\n",
    "#So the two equatorial oxygens have the same z position\n",
    "def generateTwoPositions(positions1, positions2, v, n):\n",
    "    defaultPos1 = np.array([positions1] * n)\n",
    "    defaultPos2 = np.array([positions2] * n)\n",
    "   \n",
    "    for i in range(n):\n",
    "        #2 because we change the z position\n",
    "        randZ = random.uniform(positions1[2]-v, positions1[2]+v)\n",
    "        defaultPos1[i][2] = randZ\n",
    "        defaultPos2[i][2] = randZ\n",
    "        \n",
    "    return defaultPos1, defaultPos2\n",
    "\n",
    "\n",
    "#MODIFYING THIS METHOD\n",
    "def getAtomDiffs(cn_bulk, cn_surf, rb, s, zpos, N_bulk, N_surface):\n",
    "    \n",
    "    c_B_arr = [0] * N_bulk\n",
    "    c_S_arr = [0] * N_surface\n",
    "    \n",
    "    \n",
    "    for i in range(len(c_B_arr)):\n",
    "        if i == 0:\n",
    "            c_B_arr[i] = c_bulk + cn_bulk[i]*rb[i][2] - c_bulk*zpos\n",
    "            \n",
    "        else:\n",
    "            c_B_arr[i] = cn_bulk[i-1] + cn_bulk[i]*rb[i][2] - cn_bulk[i-1]*rb[i-1][2]\n",
    "       \n",
    "    for i in range(len(c_S_arr)):\n",
    "        if i == 0:\n",
    "            c_S_arr[i] = cn_bulk[-1] + cn_surf[i]*s[i][2] - cn_bulk[-1]*rb[-1][2]\n",
    "        else:\n",
    "            c_S_arr[i] = cn_surf[i-1] + cn_surf[i]*s[i][2] - cn_surf[i-1]*s[i-1][2]\n",
    "            \n",
    "    return c_B_arr + c_S_arr\n",
    "    \n",
    "    \n",
    "def removeBraggPeaks_messy(CTR, bragg_width, thresh):\n",
    "    #only works if we use a nice number for z!\n",
    "    peak_locations = []\n",
    "    totLength = len(CTR[0])\n",
    "    totRemoved = 0\n",
    "    for i in range(len(CTR[0])):\n",
    "        if CTR[0][i] > thresh:\n",
    "            randArea = np.random.randint(bragg_width)\n",
    "            \n",
    "            if i + randArea < totLength:\n",
    "                peak_locations = np.concatenate([peak_locations, (np.linspace(i-randArea, i + randArea, 2*randArea+1))])\n",
    "            else:\n",
    "                peak_locations = np.append(peak_locations, i)\n",
    "    padding = np.zeros((len(CTR), len(set(peak_locations))))\n",
    "        \n",
    "    deleted = np.delete(CTR, peak_locations.astype(int), axis = 1)\n",
    "    final_padded = np.concatenate([deleted, padding], axis = 1)\n",
    "    \n",
    "    return final_padded"
   ]
  },
  {
   "cell_type": "markdown",
   "id": "a6e0c9b8",
   "metadata": {},
   "source": [
    "#### S(q) method"
   ]
  },
  {
   "cell_type": "code",
   "execution_count": 11,
   "id": "d2542971",
   "metadata": {},
   "outputs": [],
   "source": [
    "def get_Sq(r1, r2, r3, r4, r5):\n",
    "    \n",
    "    z_scat_bulk = np.zeros(qx.shape,dtype=np.complex_)\n",
    "\n",
    "    nom = 1\n",
    "    denom = (np.exp(1j * qz * c_bulk)-1)\n",
    "    z_scat_bulk = (nom/denom)\n",
    "        \n",
    "        \n",
    "    F_q_bulk = np.zeros(qx.shape)\n",
    "\n",
    "    F_q_bulk = F_q_bulk + fq_b[0]*np.exp( 1j * a_bulk*(qx*r1[0] + qy*r1[1] + qz*r1[2])) #Sr\n",
    "    F_q_bulk = F_q_bulk + fq_b[1]*np.exp( 1j * a_bulk*(qx*r2[0] + qy*r2[1] + qz*r2[2])) #Ti\n",
    "    F_q_bulk = F_q_bulk + fq_b[2]*np.exp( 1j * a_bulk*(qx*r3[0] + qy*r3[1] + qz*r3[2])) #O\n",
    "    F_q_bulk = F_q_bulk + fq_b[3]*np.exp( 1j * a_bulk*(qx*r4[0] + qy*r4[1] + qz*r4[2])) #O\n",
    "    F_q_bulk = F_q_bulk + fq_b[4]*np.exp( 1j * a_bulk*(qx*r5[0] + qy*r5[1] + qz*r5[2])) #O\n",
    "    \n",
    "    S_q = z_scat_bulk*F_q_bulk \n",
    "    \n",
    "    return S_q"
   ]
  },
  {
   "cell_type": "code",
   "execution_count": 12,
   "id": "181aa856",
   "metadata": {},
   "outputs": [],
   "source": [
    "S_q = get_Sq(r1, r2, r3, r4, r5)"
   ]
  },
  {
   "cell_type": "code",
   "execution_count": 13,
   "id": "3735c329",
   "metadata": {},
   "outputs": [
    {
     "data": {
      "text/plain": [
       "(-8.515494007993489-9648209089619.713j)"
      ]
     },
     "execution_count": 13,
     "metadata": {},
     "output_type": "execute_result"
    }
   ],
   "source": [
    "np.mean(S_q)"
   ]
  },
  {
   "cell_type": "code",
   "execution_count": 14,
   "id": "ccaaf0f3",
   "metadata": {},
   "outputs": [
    {
     "name": "stdout",
     "output_type": "stream",
     "text": [
      "<class 'numpy.ndarray'>\n"
     ]
    }
   ],
   "source": [
    "test = np.array([\n",
    "    [0, 1, 2],\n",
    "    [3, 4, 5]\n",
    "])\n",
    "\n",
    "test2 = np.concatenate(([[9, 9, 9]], test), axis = 0)\n",
    "print(type(test2))"
   ]
  },
  {
   "cell_type": "code",
   "execution_count": 15,
   "id": "a997cb81",
   "metadata": {},
   "outputs": [
    {
     "data": {
      "text/plain": [
       "3.905"
      ]
     },
     "execution_count": 15,
     "metadata": {},
     "output_type": "execute_result"
    }
   ],
   "source": [
    "a_bulk"
   ]
  },
  {
   "cell_type": "markdown",
   "id": "b79109e1",
   "metadata": {},
   "source": [
    "# Simulation"
   ]
  },
  {
   "cell_type": "code",
   "execution_count": 16,
   "id": "0a01435c",
   "metadata": {},
   "outputs": [
    {
     "name": "stderr",
     "output_type": "stream",
     "text": [
      "100%|████████████████████████████████████████████████████████| 101000/101000 [12:40<00:00, 132.87it/s]\n"
     ]
    },
    {
     "name": "stdout",
     "output_type": "stream",
     "text": [
      "0\n",
      "1\n",
      "2\n"
     ]
    },
    {
     "name": "stderr",
     "output_type": "stream",
     "text": [
      "100%|████████████████████████████████████████████████████████| 101000/101000 [03:35<00:00, 468.81it/s]"
     ]
    },
    {
     "name": "stdout",
     "output_type": "stream",
     "text": [
      "Done\n"
     ]
    },
    {
     "name": "stderr",
     "output_type": "stream",
     "text": [
      "\n"
     ]
    }
   ],
   "source": [
    "X_data = []\n",
    "y_data_real = []\n",
    "y_data_imag = []\n",
    "\n",
    "all_cns = []\n",
    "all_o1s = []\n",
    "all_o2s = []\n",
    "all_o3s = []\n",
    "all_Tis = []\n",
    "all_ps = []\n",
    "train_size = 100000\n",
    "dataset_size = train_size + 1000 #The extra 1000 is for testing\n",
    "v_r = 0.05\n",
    "v_cn = 0.1\n",
    "\n",
    "for i in tqdm(range(dataset_size)):\n",
    "    \n",
    "    #beta = random.uniform(0, 0.5) #random roughness between 0 and 0.5\n",
    "    beta = 0 #no roughness\n",
    "    \n",
    "    p1, p2, p3, p4 = generatePs()\n",
    "    mix = [1]*(N_bulk-2) + [p1, p2, p3, p4] + [0]*(N_surface-2)\n",
    "    \n",
    "    rb2 = generatePositions([0.5, 0.5, 0.5], v_r, N_bulk) #Ti\n",
    "    rb3 = generatePositions([0.5, 0.5, 0], v_r, N_bulk) #O1\n",
    "    rb4, rb5 = generateTwoPositions([0, 0.5, 0.5], [0.5, 0, 0.5], v_r, N_bulk ) #O2, O3\n",
    "    \n",
    "    \n",
    "    s2 = generatePositions([0.5, 0.5, 0.5], v_r, N_surface)\n",
    "    s3 = generatePositions([0.5, 0.5, 0], v_r, N_surface)\n",
    "    s4, s5 = generateTwoPositions([0, 0.5, 0.5], [0.5, 0, 0.5], v_r, N_surface )\n",
    "  \n",
    "    cn_bulk = generateCs(c_bulk, N_bulk, v_cn)\n",
    "    cn_surf = generateCs(c_surf, N_surface, v_cn)\n",
    "    \n",
    "    \n",
    "    #Since the first layer is a dummy layer, set it back to default positions\n",
    "    rb2[0] = [0.5, 0.5, 0.5]\n",
    "    rb3[0] = [0.5, 0.5, 0]\n",
    "    rb4[0] = [0, 0.5, 0.5]\n",
    "    rb5[0] = [0.5, 0, 0.5]\n",
    "    cn_bulk[0] = a_bulk\n",
    "    \n",
    "    \n",
    "    diffs2 = getAtomDiffs(cn_bulk, cn_surf, rb2, s2, r2[2], N_bulk, N_surface)\n",
    "    diffs3 = getAtomDiffs(cn_bulk, cn_surf, rb3, s3, r3[2], N_bulk, N_surface)\n",
    "    diffs4 = getAtomDiffs(cn_bulk, cn_surf, rb4, s4, r4[2], N_bulk, N_surface)\n",
    "    diffs5 = getAtomDiffs(cn_bulk, cn_surf, rb5, s5, r5[2], N_bulk, N_surface)\n",
    "    \n",
    "    all_cns.append(cn_bulk + cn_surf)\n",
    "    all_o1s.append(diffs5)\n",
    "    all_o2s.append(diffs4)\n",
    "    all_o3s.append(diffs3)\n",
    "    all_Tis.append(diffs2)\n",
    "    all_ps.append([p1, p2, p3, p4])\n",
    "    \n",
    "    \n",
    "    CTR, e_field, phase = createCTR_reshaped_log_allr(r1, r2, r3, r4, r5, rb1, rb2, rb3, rb4, rb5, s1, s2, s3, s4, s5, cn_bulk, cn_surf, mix, beta)\n",
    "   \n",
    "    #Removing the bragg peaks from the input I(q)\n",
    "    X_data.append(bragg_peak_arr_flat*CTR)\n",
    "    \n",
    "    U_q = (e_field - S_q).reshape(xy_dim * z_dim)\n",
    "    \n",
    "    y_data_real.append(np.real(U_q))\n",
    "    y_data_imag.append(np.imag(U_q))\n",
    "    \n",
    "print(\"0\")\n",
    "\n",
    "X_data = np.array(X_data)\n",
    "y_data_real = np.array(y_data_real)\n",
    "y_data_imag = np.array(y_data_imag)\n",
    "\n",
    "\n",
    "\n",
    "means_real = []\n",
    "std_real = []\n",
    "means_imag = []\n",
    "std_imag = []\n",
    "\n",
    "print(\"1\")\n",
    "for i in range(len(y_data_real[0])):\n",
    "    means_real.append(np.mean(y_data_real[:, i]))\n",
    "    std_real.append(np.std(y_data_real[:, i]))\n",
    "    \n",
    "    means_imag.append(np.mean(y_data_imag[:, i]))\n",
    "    std_imag.append(np.std(y_data_imag[:, i]))\n",
    "\n",
    "    \n",
    "    \n",
    "print(\"2\")\n",
    "    \n",
    "for i in tqdm(range(len(y_data_real))):\n",
    "    for j in range(len(y_data_real[0])):\n",
    "        y_data_real[i][j] = (y_data_real[i][j] - means_real[j])/std_real[j]\n",
    "        \n",
    "        y_data_imag[i][j] = (y_data_imag[i][j] - means_imag[j])/std_imag[j]\n",
    "        \n",
    "print(\"Done\")\n"
   ]
  },
  {
   "cell_type": "code",
   "execution_count": 17,
   "id": "51c91916",
   "metadata": {},
   "outputs": [
    {
     "data": {
      "text/plain": [
       "(101000, 3840)"
      ]
     },
     "execution_count": 17,
     "metadata": {},
     "output_type": "execute_result"
    }
   ],
   "source": [
    "y_data_real.shape"
   ]
  },
  {
   "cell_type": "code",
   "execution_count": 18,
   "id": "93796019",
   "metadata": {},
   "outputs": [
    {
     "data": {
      "text/plain": [
       "(16, 240)"
      ]
     },
     "execution_count": 18,
     "metadata": {},
     "output_type": "execute_result"
    }
   ],
   "source": [
    "X_data[0].shape"
   ]
  },
  {
   "cell_type": "code",
   "execution_count": 19,
   "id": "4d97f973",
   "metadata": {},
   "outputs": [],
   "source": [
    "test_size = 1000"
   ]
  },
  {
   "cell_type": "code",
   "execution_count": 20,
   "id": "e1236343",
   "metadata": {},
   "outputs": [
    {
     "name": "stdout",
     "output_type": "stream",
     "text": [
      "(100000, 3840, 1)\n",
      "(100000, 3840, 1)\n",
      "Mean Val:  6.37676816343382\n",
      "STD Val:  1.9829749141582458\n"
     ]
    }
   ],
   "source": [
    "x_new, y_new = X_data[0].shape\n",
    "\n",
    "#train_size = int(0.8 * len(X_data))\n",
    "x_train_noReshape = X_data[0:train_size]\n",
    "y_train_real = y_data_real[0:train_size]\n",
    "y_train_imag = y_data_imag[0:train_size]\n",
    "\n",
    "\n",
    "x_test_noReshape = X_data[train_size:]\n",
    "y_test_real = y_data_real[train_size:]\n",
    "y_test_imag = y_data_imag[train_size:]\n",
    "\n",
    "\n",
    "x_train = x_train_noReshape.reshape(train_size, x_new * y_new)\n",
    "x_test = x_test_noReshape.reshape(test_size, x_new * y_new)\n",
    "\n",
    "mean_ctr_val = np.mean(X_data)\n",
    "std_ctr_val = np.std(X_data)\n",
    "x_train = (x_train - mean_ctr_val)/std_ctr_val\n",
    "x_test = (x_test - mean_ctr_val)/std_ctr_val\n",
    "\n",
    "x_train = np.array(x_train).reshape(len(x_train), x_new * y_new, 1)\n",
    "x_test = np.array(x_test).reshape(len(x_test), x_new * y_new, 1)\n",
    "y_train_real = np.array(y_train_real).reshape(len(x_train), x_new * y_new, 1)\n",
    "y_test_real = np.array(y_test_real).reshape(len(x_test), x_new * y_new, 1)\n",
    "\n",
    "y_train_imag = np.array(y_train_imag).reshape(len(x_train), x_new * y_new, 1)\n",
    "y_test_imag = np.array(y_test_imag).reshape(len(x_test), x_new * y_new, 1)\n",
    "\n",
    "x_train = np.array(x_train)\n",
    "x_test = np.array(x_test)\n",
    "\n",
    "print(x_train.shape)\n",
    "print(y_train_real.shape)\n",
    "print(\"Mean Val: \", mean_ctr_val)\n",
    "print(\"STD Val: \", std_ctr_val)"
   ]
  },
  {
   "cell_type": "code",
   "execution_count": 21,
   "id": "828741ba",
   "metadata": {},
   "outputs": [],
   "source": [
    "#training data\n",
    "np.save(\"x_train_12L_100k.npy\", x_train)\n",
    "np.save(\"x_test_12L_100k.npy\", x_test)\n",
    "\n",
    "np.save(\"y_train_real_12L_100k.npy\", y_train_real)\n",
    "np.save(\"y_test_real_12L_100k.npy\", y_test_real)\n",
    "\n",
    "np.save(\"y_train_imag_12L_100k.npy\", y_train_imag)\n",
    "np.save(\"y_test_imag_12L_100k.npy\", y_test_imag)\n",
    "\n",
    "\n",
    "#mean, std arrays for transformation\n",
    "np.save(\"means_real_12L_100k.npy\", means_real)\n",
    "np.save(\"std_real_12L_100k.npy\", std_real)\n",
    "\n",
    "np.save(\"means_imag_12L_100k.npy\", means_imag)\n",
    "np.save(\"std_imag_12L_100k.npy\", std_imag)\n",
    "\n",
    "#atomic positions\n",
    "np.save(\"all_cns_12L_100k.npy\", all_cns)\n",
    "np.save(\"all_o1s_12L_100k.npy\", all_o1s)\n",
    "np.save(\"all_o2s_12L_100k.npy\", all_o2s)\n",
    "np.save(\"all_o3s_12L_100k.npy\", all_o3s)\n",
    "np.save(\"all_Tis_12L_100k.npy\", all_Tis)\n",
    "np.save(\"all_ps_12L_100k.npy\", all_ps)\n"
   ]
  },
  {
   "cell_type": "code",
   "execution_count": null,
   "id": "53f2acf6",
   "metadata": {},
   "outputs": [],
   "source": []
  },
  {
   "cell_type": "code",
   "execution_count": null,
   "id": "604a6feb",
   "metadata": {},
   "outputs": [],
   "source": []
  }
 ],
 "metadata": {
  "kernelspec": {
   "display_name": "Python 3 (ipykernel)",
   "language": "python",
   "name": "python3"
  },
  "language_info": {
   "codemirror_mode": {
    "name": "ipython",
    "version": 3
   },
   "file_extension": ".py",
   "mimetype": "text/x-python",
   "name": "python",
   "nbconvert_exporter": "python",
   "pygments_lexer": "ipython3",
   "version": "3.11.3"
  }
 },
 "nbformat": 4,
 "nbformat_minor": 5
}
