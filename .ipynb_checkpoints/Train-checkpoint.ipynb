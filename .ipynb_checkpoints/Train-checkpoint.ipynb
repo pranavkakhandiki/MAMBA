{
 "cells": [
  {
   "cell_type": "code",
   "execution_count": 1,
   "id": "b520601b",
   "metadata": {},
   "outputs": [],
   "source": [
    "%matplotlib inline\n",
    "import numpy as np                  \n",
    "import matplotlib.pyplot as plt     \n",
    "import random   \n",
    "import math\n",
    "from tqdm import tqdm\n",
    "\n",
    "\n",
    "from keras.datasets import mnist    \n",
    "from keras.models import Sequential \n",
    "\n",
    "#from keras.layers.core import Dense, Dropout, Activation \n",
    "#from keras.utils import np_utils  \n",
    "\n",
    "import tensorflow as tf\n",
    "from tensorflow.keras.models import Sequential\n",
    "from tensorflow.keras.layers import Dense, Dropout, Activation, Flatten, Conv2D, MaxPooling2D\n",
    "import matplotlib.pyplot as plt\n",
    "import pickle\n",
    "from sklearn.model_selection import train_test_split\n",
    "\n",
    "import matplotlib.image as mpimg\n",
    "import scipy.ndimage as ndi\n",
    "\n",
    "from keras.models import Sequential\n",
    "from keras.layers import Dense\n",
    "from keras import backend as K\n",
    "import keras\n",
    "\n",
    "from sklearn.metrics import mean_squared_error\n",
    "from scipy.optimize import curve_fit\n",
    "from numba import jit\n",
    "pi = math.pi\n",
    "\n",
    "import random\n",
    "#from cv2 import cv2\n",
    "import cv2\n",
    "import scipy.stats\n",
    "import seaborn as sns\n",
    "\n",
    "from nexusformat.nexus import *\n",
    "from matplotlib.patches import Circle\n",
    "\n"
   ]
  },
  {
   "cell_type": "markdown",
   "id": "b79109e1",
   "metadata": {},
   "source": [
    "# Loading in Data"
   ]
  },
  {
   "cell_type": "code",
   "execution_count": 14,
   "id": "0a01435c",
   "metadata": {},
   "outputs": [
    {
     "name": "stderr",
     "output_type": "stream",
     "text": [
      "2024-07-27 00:21:53.534575: I metal_plugin/src/device/metal_device.cc:1154] Metal device set to: Apple M2 Pro\n",
      "2024-07-27 00:21:53.536412: I metal_plugin/src/device/metal_device.cc:296] systemMemory: 16.00 GB\n",
      "2024-07-27 00:21:53.536416: I metal_plugin/src/device/metal_device.cc:313] maxCacheSize: 5.33 GB\n",
      "2024-07-27 00:21:53.536948: I tensorflow/core/common_runtime/pluggable_device/pluggable_device_factory.cc:303] Could not identify NUMA node of platform GPU ID 0, defaulting to 0. Your kernel may not have been built with NUMA support.\n",
      "2024-07-27 00:21:53.538295: I tensorflow/core/common_runtime/pluggable_device/pluggable_device_factory.cc:269] Created TensorFlow device (/job:localhost/replica:0/task:0/device:GPU:0 with 0 MB memory) -> physical PluggableDevice (device: 0, name: METAL, pci bus id: <undefined>)\n"
     ]
    }
   ],
   "source": [
    "# Load your numpy arrays\n",
    "x_train = np.load('x_train_12L_100k.npy')\n",
    "x_test = np.load('x_test_12L_100k.npy')\n",
    "\n",
    "y_train_real = np.load('y_train_real_12L_100k.npy')\n",
    "y_test_real = np.load('y_test_real_12L_100k.npy') \n",
    "\n",
    "y_train_imag = np.load('y_train_imag_12L_100k.npy')\n",
    "y_test_imag = np.load('y_test_imag_12L_100k.npy')\n",
    "\n",
    "#mean, std arrays for transformation\n",
    "means_real = np.load(\"means_real_12L_100k.npy\")\n",
    "std_real = np.load(\"std_real_12L_100k.npy\")\n",
    "\n",
    "means_imag = np.load(\"means_imag_12L_100k.npy\")\n",
    "std_imag = np.load(\"std_imag_12L_100k.npy\")\n",
    "\n",
    "#atomic positions\n",
    "all_cns = np.load(\"all_cns_12L_100k.npy\")\n",
    "all_o1s = np.load(\"all_o1s_12L_100k.npy\")\n",
    "all_o2s = np.load(\"all_o2s_12L_100k.npy\")\n",
    "all_o3s = np.load(\"all_o3s_12L_100k.npy\")\n",
    "all_Tis = np.load(\"all_Tis_12L_100k.npy\")\n",
    "all_ps = np.load(\"all_ps_12L_100k.npy\")\n",
    "\n",
    "\n",
    "#Split into Train and Validation\n",
    "train_size = len(x_train)\n",
    "train_val_split_size = int(0.9 * len(x_train))\n",
    "x_train_split = x_train[0:train_val_split_size]\n",
    "y_train_real_split = y_train_real[0:train_val_split_size]\n",
    "y_train_imag_split =  y_train_imag[0:train_val_split_size]\n",
    "\n",
    "x_val = x_train[train_val_split_size:]\n",
    "y_val_real = y_train_real[train_val_split_size:]\n",
    "y_val_imag =  y_train_imag[train_val_split_size:]\n",
    "\n",
    "\n",
    "# Create TensorFlow datasets\n",
    "train_dataset_real = tf.data.Dataset.from_tensor_slices((x_train_split, y_train_real_split))\n",
    "val_dataset_real = tf.data.Dataset.from_tensor_slices((x_val, y_val_real))\n",
    "\n",
    "train_dataset_imag = tf.data.Dataset.from_tensor_slices((x_train_split, y_train_imag_split))\n",
    "val_dataset_imag = tf.data.Dataset.from_tensor_slices((x_val, y_val_imag))\n",
    "\n",
    "# Define batch size\n",
    "batch_size = 32\n",
    "\n",
    "# Satch the training dataset\n",
    "train_dataset_real = train_dataset_real.batch(batch_size)\n",
    "train_dataset_imag = train_dataset_imag.batch(batch_size)\n",
    "\n",
    "\n",
    "# Batch the validation dataset\n",
    "val_dataset_real = val_dataset_real.batch(batch_size)\n",
    "val_dataset_imag = val_dataset_imag.batch(batch_size)"
   ]
  },
  {
   "cell_type": "markdown",
   "id": "ceadfa8f",
   "metadata": {},
   "source": [
    "# Building the UNet"
   ]
  },
  {
   "cell_type": "code",
   "execution_count": 15,
   "id": "305d645d",
   "metadata": {},
   "outputs": [],
   "source": [
    "from keras.layers import Conv1D\n",
    "from keras.layers import MaxPooling1D\n",
    "from keras.layers import Concatenate\n"
   ]
  },
  {
   "cell_type": "code",
   "execution_count": 16,
   "id": "1a58e783",
   "metadata": {},
   "outputs": [],
   "source": [
    "#custom Loss\n",
    "#see if theres infinite loss type thing\n",
    "def custom_loss(y_true, y_pred):\n",
    "    diff = y_true - y_pred\n",
    "    val = (diff + pi) % (2*pi) - pi\n",
    "    \n",
    "    return tf.reduce_mean(tf.abs(val))\n"
   ]
  },
  {
   "cell_type": "code",
   "execution_count": 17,
   "id": "e37d2cfd",
   "metadata": {
    "scrolled": true
   },
   "outputs": [
    {
     "name": "stdout",
     "output_type": "stream",
     "text": [
      "Model: \"model\"\n",
      "__________________________________________________________________________________________________\n",
      " Layer (type)                Output Shape                 Param #   Connected to                  \n",
      "==================================================================================================\n",
      " input_1 (InputLayer)        [(None, 3840, 1)]            0         []                            \n",
      "                                                                                                  \n",
      " conv1d (Conv1D)             (None, 3840, 128)            512       ['input_1[0][0]']             \n",
      "                                                                                                  \n",
      " conv1d_1 (Conv1D)           (None, 3840, 128)            49280     ['conv1d[0][0]']              \n",
      "                                                                                                  \n",
      " max_pooling1d (MaxPooling1  (None, 1920, 128)            0         ['conv1d_1[0][0]']            \n",
      " D)                                                                                               \n",
      "                                                                                                  \n",
      " conv1d_2 (Conv1D)           (None, 1920, 256)            98560     ['max_pooling1d[0][0]']       \n",
      "                                                                                                  \n",
      " conv1d_3 (Conv1D)           (None, 1920, 256)            196864    ['conv1d_2[0][0]']            \n",
      "                                                                                                  \n",
      " max_pooling1d_1 (MaxPoolin  (None, 960, 256)             0         ['conv1d_3[0][0]']            \n",
      " g1D)                                                                                             \n",
      "                                                                                                  \n",
      " conv1d_4 (Conv1D)           (None, 960, 512)             393728    ['max_pooling1d_1[0][0]']     \n",
      "                                                                                                  \n",
      " conv1d_5 (Conv1D)           (None, 960, 512)             786944    ['conv1d_4[0][0]']            \n",
      "                                                                                                  \n",
      " up_sampling1d (UpSampling1  (None, 1920, 512)            0         ['conv1d_5[0][0]']            \n",
      " D)                                                                                               \n",
      "                                                                                                  \n",
      " conv1d_6 (Conv1D)           (None, 1920, 256)            262400    ['up_sampling1d[0][0]']       \n",
      "                                                                                                  \n",
      " concatenate (Concatenate)   (None, 1920, 512)            0         ['conv1d_3[0][0]',            \n",
      "                                                                     'conv1d_6[0][0]']            \n",
      "                                                                                                  \n",
      " conv1d_7 (Conv1D)           (None, 1920, 256)            393472    ['concatenate[0][0]']         \n",
      "                                                                                                  \n",
      " conv1d_8 (Conv1D)           (None, 1920, 256)            196864    ['conv1d_7[0][0]']            \n",
      "                                                                                                  \n",
      " up_sampling1d_1 (UpSamplin  (None, 3840, 256)            0         ['conv1d_8[0][0]']            \n",
      " g1D)                                                                                             \n",
      "                                                                                                  \n",
      " conv1d_9 (Conv1D)           (None, 3840, 128)            65664     ['up_sampling1d_1[0][0]']     \n",
      "                                                                                                  \n",
      " concatenate_1 (Concatenate  (None, 3840, 256)            0         ['conv1d_1[0][0]',            \n",
      " )                                                                   'conv1d_9[0][0]']            \n",
      "                                                                                                  \n",
      " conv1d_10 (Conv1D)          (None, 3840, 128)            98432     ['concatenate_1[0][0]']       \n",
      "                                                                                                  \n",
      " conv1d_11 (Conv1D)          (None, 3840, 128)            49280     ['conv1d_10[0][0]']           \n",
      "                                                                                                  \n",
      " conv1d_12 (Conv1D)          (None, 3840, 1)              129       ['conv1d_11[0][0]']           \n",
      "                                                                                                  \n",
      "==================================================================================================\n",
      "Total params: 2592129 (9.89 MB)\n",
      "Trainable params: 2592129 (9.89 MB)\n",
      "Non-trainable params: 0 (0.00 Byte)\n",
      "__________________________________________________________________________________________________\n"
     ]
    }
   ],
   "source": [
    "import tensorflow as tf\n",
    "from tensorflow.keras.layers import Input, Conv1D, MaxPooling1D, UpSampling1D, Concatenate, BatchNormalization, Dropout\n",
    "from tensorflow.keras.models import Model\n",
    "\n",
    "import tensorflow as tf\n",
    "from tensorflow.keras.layers import Input, Conv1D, MaxPooling1D, UpSampling1D, Concatenate, BatchNormalization\n",
    "\n",
    "def unet_1d(input_shape):\n",
    "    inputs = Input(input_shape)\n",
    "\n",
    "    # Encoding path\n",
    "    conv1 = Conv1D(128, 3, activation='relu', padding='same')(inputs)\n",
    "    conv1 = Conv1D(128, 3, activation='relu', padding='same')(conv1)\n",
    "    pool1 = MaxPooling1D(pool_size=2)(conv1)\n",
    "\n",
    "    conv2 = Conv1D(256, 3, activation='relu', padding='same')(pool1)\n",
    "    conv2 = Conv1D(256, 3, activation='relu', padding='same')(conv2)\n",
    "    pool2 = MaxPooling1D(pool_size=2)(conv2)\n",
    "\n",
    "    # Center path\n",
    "    conv3 = Conv1D(512, 3, activation='relu', padding='same')(pool2)\n",
    "    conv3 = Conv1D(512, 3, activation='relu', padding='same')(conv3)\n",
    "\n",
    "    # Decoding path\n",
    "    up4 = Conv1D(256, 2, activation='relu', padding='same')(UpSampling1D(size=2)(conv3))\n",
    "    merge4 = Concatenate(axis=-1)([conv2, up4])\n",
    "    conv4 = Conv1D(256, 3, activation='relu', padding='same')(merge4)\n",
    "    conv4 = Conv1D(256, 3, activation='relu', padding='same')(conv4)\n",
    "\n",
    "    up5 = Conv1D(128, 2, activation='relu', padding='same')(UpSampling1D(size=2)(conv4))\n",
    "    merge5 = Concatenate(axis=-1)([conv1, up5])\n",
    "    conv5 = Conv1D(128, 3, activation='relu', padding='same')(merge5)\n",
    "    conv5 = Conv1D(128, 3, activation='relu', padding='same')(conv5)\n",
    "\n",
    "    outputs = Conv1D(1, 1, activation='linear', padding='same')(conv5)\n",
    "\n",
    "    model = Model(inputs, outputs)\n",
    "    return model\n",
    "\n",
    "x_new_times_y_new = x_test[0].shape[0]\n",
    "# Define input shape (476, 1)\n",
    "input_shape = (x_new_times_y_new, 1)\n",
    "\n",
    "# Create the modified model\n",
    "model = unet_1d(input_shape)\n",
    "\n",
    "# Print the modified model summary\n",
    "model.summary()\n",
    "tf.random.set_seed(40)"
   ]
  },
  {
   "cell_type": "markdown",
   "id": "a769d0b4",
   "metadata": {},
   "source": [
    "# E_real"
   ]
  },
  {
   "cell_type": "code",
   "execution_count": 18,
   "id": "3ef737f2",
   "metadata": {
    "scrolled": true
   },
   "outputs": [
    {
     "name": "stdout",
     "output_type": "stream",
     "text": [
      "Epoch 1/30\n"
     ]
    },
    {
     "name": "stderr",
     "output_type": "stream",
     "text": [
      "2024-07-27 00:24:01.313716: I tensorflow/core/grappler/optimizers/custom_graph_optimizer_registry.cc:114] Plugin optimizer for device_type GPU is enabled.\n"
     ]
    },
    {
     "name": "stdout",
     "output_type": "stream",
     "text": [
      "2813/2813 [==============================] - ETA: 0s - loss: 0.2836 - mean_absolute_error: 0.2836"
     ]
    },
    {
     "name": "stderr",
     "output_type": "stream",
     "text": [
      "2024-07-27 00:50:52.825016: I tensorflow/core/grappler/optimizers/custom_graph_optimizer_registry.cc:114] Plugin optimizer for device_type GPU is enabled.\n"
     ]
    },
    {
     "name": "stdout",
     "output_type": "stream",
     "text": [
      "\n",
      "Epoch 1: val_loss improved from inf to 0.21091, saving model to unet_12L_100k_30e_real.h5\n",
      "2813/2813 [==============================] - 1656s 576ms/step - loss: 0.2836 - mean_absolute_error: 0.2836 - val_loss: 0.2109 - val_mean_absolute_error: 0.2109\n",
      "Epoch 2/30\n"
     ]
    },
    {
     "name": "stderr",
     "output_type": "stream",
     "text": [
      "/Users/pranavkakhandiki/anaconda3/lib/python3.11/site-packages/keras/src/engine/training.py:3000: UserWarning: You are saving your model as an HDF5 file via `model.save()`. This file format is considered legacy. We recommend using instead the native Keras format, e.g. `model.save('my_model.keras')`.\n",
      "  saving_api.save_model(\n"
     ]
    },
    {
     "name": "stdout",
     "output_type": "stream",
     "text": [
      "2813/2813 [==============================] - ETA: 0s - loss: 0.1932 - mean_absolute_error: 0.1932\n",
      "Epoch 2: val_loss improved from 0.21091 to 0.17990, saving model to unet_12L_100k_30e_real.h5\n",
      "2813/2813 [==============================] - 1447s 514ms/step - loss: 0.1932 - mean_absolute_error: 0.1932 - val_loss: 0.1799 - val_mean_absolute_error: 0.1799\n",
      "Epoch 3/30\n",
      "2813/2813 [==============================] - ETA: 0s - loss: 0.1725 - mean_absolute_error: 0.1725\n",
      "Epoch 3: val_loss improved from 0.17990 to 0.16491, saving model to unet_12L_100k_30e_real.h5\n",
      "2813/2813 [==============================] - 1472s 523ms/step - loss: 0.1725 - mean_absolute_error: 0.1725 - val_loss: 0.1649 - val_mean_absolute_error: 0.1649\n",
      "Epoch 4/30\n",
      "2813/2813 [==============================] - ETA: 0s - loss: 0.1610 - mean_absolute_error: 0.1610\n",
      "Epoch 4: val_loss improved from 0.16491 to 0.15410, saving model to unet_12L_100k_30e_real.h5\n",
      "2813/2813 [==============================] - 1492s 530ms/step - loss: 0.1610 - mean_absolute_error: 0.1610 - val_loss: 0.1541 - val_mean_absolute_error: 0.1541\n",
      "Epoch 5/30\n",
      "2813/2813 [==============================] - ETA: 0s - loss: 0.1538 - mean_absolute_error: 0.1538\n",
      "Epoch 5: val_loss improved from 0.15410 to 0.15369, saving model to unet_12L_100k_30e_real.h5\n",
      "2813/2813 [==============================] - 1476s 525ms/step - loss: 0.1538 - mean_absolute_error: 0.1538 - val_loss: 0.1537 - val_mean_absolute_error: 0.1537\n",
      "Epoch 6/30\n",
      "2813/2813 [==============================] - ETA: 0s - loss: 0.1481 - mean_absolute_error: 0.1481\n",
      "Epoch 6: val_loss improved from 0.15369 to 0.14888, saving model to unet_12L_100k_30e_real.h5\n",
      "2813/2813 [==============================] - 1477s 525ms/step - loss: 0.1481 - mean_absolute_error: 0.1481 - val_loss: 0.1489 - val_mean_absolute_error: 0.1489\n",
      "Epoch 7/30\n",
      "2813/2813 [==============================] - ETA: 0s - loss: 0.1437 - mean_absolute_error: 0.1437\n",
      "Epoch 7: val_loss improved from 0.14888 to 0.14375, saving model to unet_12L_100k_30e_real.h5\n",
      "2813/2813 [==============================] - 1511s 537ms/step - loss: 0.1437 - mean_absolute_error: 0.1437 - val_loss: 0.1437 - val_mean_absolute_error: 0.1437\n",
      "Epoch 8/30\n",
      "2813/2813 [==============================] - ETA: 0s - loss: 0.1400 - mean_absolute_error: 0.1400\n",
      "Epoch 8: val_loss improved from 0.14375 to 0.14228, saving model to unet_12L_100k_30e_real.h5\n",
      "2813/2813 [==============================] - 1505s 535ms/step - loss: 0.1400 - mean_absolute_error: 0.1400 - val_loss: 0.1423 - val_mean_absolute_error: 0.1423\n",
      "Epoch 9/30\n",
      "2813/2813 [==============================] - ETA: 0s - loss: 0.1371 - mean_absolute_error: 0.1371\n",
      "Epoch 9: val_loss improved from 0.14228 to 0.13903, saving model to unet_12L_100k_30e_real.h5\n",
      "2813/2813 [==============================] - 1493s 531ms/step - loss: 0.1371 - mean_absolute_error: 0.1371 - val_loss: 0.1390 - val_mean_absolute_error: 0.1390\n",
      "Epoch 10/30\n",
      "2813/2813 [==============================] - ETA: 0s - loss: 0.1346 - mean_absolute_error: 0.1346\n",
      "Epoch 10: val_loss improved from 0.13903 to 0.13812, saving model to unet_12L_100k_30e_real.h5\n",
      "2813/2813 [==============================] - 1519s 539ms/step - loss: 0.1346 - mean_absolute_error: 0.1346 - val_loss: 0.1381 - val_mean_absolute_error: 0.1381\n",
      "Epoch 11/30\n",
      "2813/2813 [==============================] - ETA: 0s - loss: 0.1324 - mean_absolute_error: 0.1324\n",
      "Epoch 11: val_loss improved from 0.13812 to 0.13662, saving model to unet_12L_100k_30e_real.h5\n",
      "2813/2813 [==============================] - 1524s 542ms/step - loss: 0.1324 - mean_absolute_error: 0.1324 - val_loss: 0.1366 - val_mean_absolute_error: 0.1366\n",
      "Epoch 12/30\n",
      "2813/2813 [==============================] - ETA: 0s - loss: 0.1305 - mean_absolute_error: 0.1305\n",
      "Epoch 12: val_loss did not improve from 0.13662\n",
      "2813/2813 [==============================] - 1520s 540ms/step - loss: 0.1305 - mean_absolute_error: 0.1305 - val_loss: 0.1377 - val_mean_absolute_error: 0.1377\n",
      "Epoch 13/30\n",
      "2813/2813 [==============================] - ETA: 0s - loss: 0.1287 - mean_absolute_error: 0.1287\n",
      "Epoch 13: val_loss improved from 0.13662 to 0.13534, saving model to unet_12L_100k_30e_real.h5\n",
      "2813/2813 [==============================] - 1500s 533ms/step - loss: 0.1287 - mean_absolute_error: 0.1287 - val_loss: 0.1353 - val_mean_absolute_error: 0.1353\n",
      "Epoch 14/30\n",
      "2813/2813 [==============================] - ETA: 0s - loss: 0.1272 - mean_absolute_error: 0.1272\n",
      "Epoch 14: val_loss improved from 0.13534 to 0.13501, saving model to unet_12L_100k_30e_real.h5\n",
      "2813/2813 [==============================] - 1531s 544ms/step - loss: 0.1272 - mean_absolute_error: 0.1272 - val_loss: 0.1350 - val_mean_absolute_error: 0.1350\n",
      "Epoch 15/30\n",
      "2813/2813 [==============================] - ETA: 0s - loss: 0.1256 - mean_absolute_error: 0.1256\n",
      "Epoch 15: val_loss improved from 0.13501 to 0.13303, saving model to unet_12L_100k_30e_real.h5\n",
      "2813/2813 [==============================] - 1548s 550ms/step - loss: 0.1256 - mean_absolute_error: 0.1256 - val_loss: 0.1330 - val_mean_absolute_error: 0.1330\n",
      "Epoch 16/30\n",
      "2813/2813 [==============================] - ETA: 0s - loss: 0.1245 - mean_absolute_error: 0.1245\n",
      "Epoch 16: val_loss improved from 0.13303 to 0.13158, saving model to unet_12L_100k_30e_real.h5\n",
      "2813/2813 [==============================] - 1520s 540ms/step - loss: 0.1245 - mean_absolute_error: 0.1245 - val_loss: 0.1316 - val_mean_absolute_error: 0.1316\n",
      "Epoch 17/30\n",
      "2813/2813 [==============================] - ETA: 0s - loss: 0.1234 - mean_absolute_error: 0.1234\n",
      "Epoch 17: val_loss improved from 0.13158 to 0.12892, saving model to unet_12L_100k_30e_real.h5\n",
      "2813/2813 [==============================] - 1516s 539ms/step - loss: 0.1234 - mean_absolute_error: 0.1234 - val_loss: 0.1289 - val_mean_absolute_error: 0.1289\n",
      "Epoch 18/30\n",
      "2813/2813 [==============================] - ETA: 0s - loss: 0.1224 - mean_absolute_error: 0.1224\n",
      "Epoch 18: val_loss did not improve from 0.12892\n",
      "2813/2813 [==============================] - 1489s 529ms/step - loss: 0.1224 - mean_absolute_error: 0.1224 - val_loss: 0.1305 - val_mean_absolute_error: 0.1305\n",
      "Epoch 19/30\n",
      "2813/2813 [==============================] - ETA: 0s - loss: 0.1213 - mean_absolute_error: 0.1213\n",
      "Epoch 19: val_loss did not improve from 0.12892\n",
      "2813/2813 [==============================] - 1492s 530ms/step - loss: 0.1213 - mean_absolute_error: 0.1213 - val_loss: 0.1306 - val_mean_absolute_error: 0.1306\n",
      "Epoch 20/30\n",
      "2813/2813 [==============================] - ETA: 0s - loss: 0.1205 - mean_absolute_error: 0.1205\n",
      "Epoch 20: val_loss improved from 0.12892 to 0.12818, saving model to unet_12L_100k_30e_real.h5\n",
      "2813/2813 [==============================] - 1537s 546ms/step - loss: 0.1205 - mean_absolute_error: 0.1205 - val_loss: 0.1282 - val_mean_absolute_error: 0.1282\n",
      "Epoch 21/30\n",
      "2813/2813 [==============================] - ETA: 0s - loss: 0.1199 - mean_absolute_error: 0.1199\n",
      "Epoch 21: val_loss improved from 0.12818 to 0.12676, saving model to unet_12L_100k_30e_real.h5\n",
      "2813/2813 [==============================] - 1525s 542ms/step - loss: 0.1199 - mean_absolute_error: 0.1199 - val_loss: 0.1268 - val_mean_absolute_error: 0.1268\n",
      "Epoch 22/30\n",
      "2813/2813 [==============================] - ETA: 0s - loss: 0.1189 - mean_absolute_error: 0.1189\n",
      "Epoch 22: val_loss improved from 0.12676 to 0.12585, saving model to unet_12L_100k_30e_real.h5\n",
      "2813/2813 [==============================] - 1524s 542ms/step - loss: 0.1189 - mean_absolute_error: 0.1189 - val_loss: 0.1259 - val_mean_absolute_error: 0.1259\n",
      "Epoch 23/30\n",
      "2813/2813 [==============================] - ETA: 0s - loss: 0.1179 - mean_absolute_error: 0.1179\n",
      "Epoch 23: val_loss did not improve from 0.12585\n",
      "2813/2813 [==============================] - 1501s 533ms/step - loss: 0.1179 - mean_absolute_error: 0.1179 - val_loss: 0.1263 - val_mean_absolute_error: 0.1263\n",
      "Epoch 24/30\n",
      "2813/2813 [==============================] - ETA: 0s - loss: 0.1176 - mean_absolute_error: 0.1176\n",
      "Epoch 24: val_loss did not improve from 0.12585\n",
      "2813/2813 [==============================] - 1505s 535ms/step - loss: 0.1176 - mean_absolute_error: 0.1176 - val_loss: 0.1271 - val_mean_absolute_error: 0.1271\n",
      "Epoch 25/30\n",
      "2813/2813 [==============================] - ETA: 0s - loss: 0.1166 - mean_absolute_error: 0.1166\n",
      "Epoch 25: val_loss did not improve from 0.12585\n",
      "2813/2813 [==============================] - 1533s 545ms/step - loss: 0.1166 - mean_absolute_error: 0.1166 - val_loss: 0.1259 - val_mean_absolute_error: 0.1259\n",
      "Epoch 26/30\n",
      "2813/2813 [==============================] - ETA: 0s - loss: 0.1162 - mean_absolute_error: 0.1162\n",
      "Epoch 26: val_loss did not improve from 0.12585\n",
      "2813/2813 [==============================] - 1544s 549ms/step - loss: 0.1162 - mean_absolute_error: 0.1162 - val_loss: 0.1296 - val_mean_absolute_error: 0.1296\n",
      "Epoch 27/30\n",
      "2813/2813 [==============================] - ETA: 0s - loss: 0.1156 - mean_absolute_error: 0.1156\n",
      "Epoch 27: val_loss did not improve from 0.12585\n",
      "2813/2813 [==============================] - 1579s 561ms/step - loss: 0.1156 - mean_absolute_error: 0.1156 - val_loss: 0.1275 - val_mean_absolute_error: 0.1275\n",
      "Epoch 28/30\n",
      "2813/2813 [==============================] - ETA: 0s - loss: 0.1151 - mean_absolute_error: 0.1151\n",
      "Epoch 28: val_loss did not improve from 0.12585\n",
      "2813/2813 [==============================] - 1527s 543ms/step - loss: 0.1151 - mean_absolute_error: 0.1151 - val_loss: 0.1259 - val_mean_absolute_error: 0.1259\n",
      "Epoch 29/30\n",
      "2813/2813 [==============================] - ETA: 0s - loss: 0.1144 - mean_absolute_error: 0.1144\n",
      "Epoch 29: val_loss improved from 0.12585 to 0.12405, saving model to unet_12L_100k_30e_real.h5\n",
      "2813/2813 [==============================] - 1507s 535ms/step - loss: 0.1144 - mean_absolute_error: 0.1144 - val_loss: 0.1240 - val_mean_absolute_error: 0.1240\n",
      "Epoch 30/30\n",
      "2813/2813 [==============================] - ETA: 0s - loss: 0.1142 - mean_absolute_error: 0.1142\n",
      "Epoch 30: val_loss did not improve from 0.12405\n",
      "2813/2813 [==============================] - 1551s 551ms/step - loss: 0.1142 - mean_absolute_error: 0.1142 - val_loss: 0.1250 - val_mean_absolute_error: 0.1250\n"
     ]
    },
    {
     "data": {
      "image/png": "[encoded data removed]",
      "text/plain": [
       "<Figure size 640x480 with 1 Axes>"
      ]
     },
     "metadata": {},
     "output_type": "display_data"
    }
   ],
   "source": [
    "model = unet_1d(input_shape)\n",
    "\n",
    "with tf.device('/device:CPU:0'):\n",
    "    model.compile(loss = 'mean_absolute_error',\n",
    "                 optimizer = \"adam\",\n",
    "                 metrics = ['mean_absolute_error'])\n",
    "\n",
    "checkpointer = tf.keras.callbacks.ModelCheckpoint('unet_12L_100k_30e_real.h5', verbose=1, save_best_only=True)\n",
    "callbacks = [\n",
    "    checkpointer\n",
    "]\n",
    "\n",
    "# Train your model using the dataset\n",
    "results = model.fit(train_dataset_real, epochs=30, validation_data=val_dataset_real, callbacks=callbacks)\n",
    "\n",
    "plt.plot(results.history['val_loss'], 'o-', color = 'red')\n",
    "plt.plot(results.history['loss'], 'o-', color = 'green')\n",
    "plt.xlabel('epoch')\n",
    "\n",
    "np.save(\"trainLoss_12L_100k_real.npy\", results.history['loss'])\n",
    "np.save(\"valLoss_12L_100k_real.npy\", results.history['val_loss'])"
   ]
  },
  {
   "cell_type": "code",
   "execution_count": 19,
   "id": "92f7eac4",
   "metadata": {},
   "outputs": [
    {
     "name": "stderr",
     "output_type": "stream",
     "text": [
      "2024-07-27 13:02:40.304110: I tensorflow/core/grappler/optimizers/custom_graph_optimizer_registry.cc:114] Plugin optimizer for device_type GPU is enabled.\n"
     ]
    },
    {
     "name": "stdout",
     "output_type": "stream",
     "text": [
      "32/32 [==============================] - 6s 150ms/step\n"
     ]
    }
   ],
   "source": [
    "model_new = unet_1d(input_shape)\n",
    "model_new.load_weights('unet_12L_100k_30e_real.h5')\n",
    "\n",
    "# Now you can use the model to make predictions\n",
    "\n",
    "predictions_real = model_new.predict([x_test])\n",
    "#predictions_train_real = model_new.predict([x_train])"
   ]
  },
  {
   "cell_type": "markdown",
   "id": "393e293a",
   "metadata": {},
   "source": [
    "# E_imag"
   ]
  },
  {
   "cell_type": "code",
   "execution_count": 20,
   "id": "cbbfe02d",
   "metadata": {
    "scrolled": true
   },
   "outputs": [
    {
     "name": "stdout",
     "output_type": "stream",
     "text": [
      "Epoch 1/30\n"
     ]
    },
    {
     "name": "stderr",
     "output_type": "stream",
     "text": [
      "2024-07-27 13:02:49.015966: I tensorflow/core/grappler/optimizers/custom_graph_optimizer_registry.cc:114] Plugin optimizer for device_type GPU is enabled.\n"
     ]
    },
    {
     "name": "stdout",
     "output_type": "stream",
     "text": [
      "2813/2813 [==============================] - ETA: 0s - loss: 0.2815 - mean_absolute_error: 0.2815"
     ]
    },
    {
     "name": "stderr",
     "output_type": "stream",
     "text": [
      "2024-07-27 13:27:53.972516: I tensorflow/core/grappler/optimizers/custom_graph_optimizer_registry.cc:114] Plugin optimizer for device_type GPU is enabled.\n"
     ]
    },
    {
     "name": "stdout",
     "output_type": "stream",
     "text": [
      "\n",
      "Epoch 1: val_loss improved from inf to 0.21606, saving model to unet_12L_100k_30e_imag.h5\n",
      "2813/2813 [==============================] - 1547s 537ms/step - loss: 0.2815 - mean_absolute_error: 0.2815 - val_loss: 0.2161 - val_mean_absolute_error: 0.2161\n",
      "Epoch 2/30\n",
      "2813/2813 [==============================] - ETA: 0s - loss: 0.1920 - mean_absolute_error: 0.1920\n",
      "Epoch 2: val_loss improved from 0.21606 to 0.17727, saving model to unet_12L_100k_30e_imag.h5\n",
      "2813/2813 [==============================] - 1468s 522ms/step - loss: 0.1920 - mean_absolute_error: 0.1920 - val_loss: 0.1773 - val_mean_absolute_error: 0.1773\n",
      "Epoch 3/30\n",
      "2813/2813 [==============================] - ETA: 0s - loss: 0.1714 - mean_absolute_error: 0.1714\n",
      "Epoch 3: val_loss improved from 0.17727 to 0.16706, saving model to unet_12L_100k_30e_imag.h5\n",
      "2813/2813 [==============================] - 1489s 529ms/step - loss: 0.1714 - mean_absolute_error: 0.1714 - val_loss: 0.1671 - val_mean_absolute_error: 0.1671\n",
      "Epoch 4/30\n",
      "2813/2813 [==============================] - ETA: 0s - loss: 0.1603 - mean_absolute_error: 0.1603\n",
      "Epoch 4: val_loss improved from 0.16706 to 0.15718, saving model to unet_12L_100k_30e_imag.h5\n",
      "2813/2813 [==============================] - 1484s 528ms/step - loss: 0.1603 - mean_absolute_error: 0.1603 - val_loss: 0.1572 - val_mean_absolute_error: 0.1572\n",
      "Epoch 5/30\n",
      "2813/2813 [==============================] - ETA: 0s - loss: 0.1526 - mean_absolute_error: 0.1526\n",
      "Epoch 5: val_loss improved from 0.15718 to 0.15146, saving model to unet_12L_100k_30e_imag.h5\n",
      "2813/2813 [==============================] - 1504s 534ms/step - loss: 0.1526 - mean_absolute_error: 0.1526 - val_loss: 0.1515 - val_mean_absolute_error: 0.1515\n",
      "Epoch 6/30\n",
      "2813/2813 [==============================] - ETA: 0s - loss: 0.1469 - mean_absolute_error: 0.1469\n",
      "Epoch 6: val_loss improved from 0.15146 to 0.15018, saving model to unet_12L_100k_30e_imag.h5\n",
      "2813/2813 [==============================] - 1499s 533ms/step - loss: 0.1469 - mean_absolute_error: 0.1469 - val_loss: 0.1502 - val_mean_absolute_error: 0.1502\n",
      "Epoch 7/30\n",
      "2813/2813 [==============================] - ETA: 0s - loss: 0.1423 - mean_absolute_error: 0.1423\n",
      "Epoch 7: val_loss improved from 0.15018 to 0.14356, saving model to unet_12L_100k_30e_imag.h5\n",
      "2813/2813 [==============================] - 1489s 529ms/step - loss: 0.1423 - mean_absolute_error: 0.1423 - val_loss: 0.1436 - val_mean_absolute_error: 0.1436\n",
      "Epoch 8/30\n",
      "2813/2813 [==============================] - ETA: 0s - loss: 0.1391 - mean_absolute_error: 0.1391\n",
      "Epoch 8: val_loss improved from 0.14356 to 0.14018, saving model to unet_12L_100k_30e_imag.h5\n",
      "2813/2813 [==============================] - 1478s 525ms/step - loss: 0.1391 - mean_absolute_error: 0.1391 - val_loss: 0.1402 - val_mean_absolute_error: 0.1402\n",
      "Epoch 9/30\n",
      "2813/2813 [==============================] - ETA: 0s - loss: 0.1361 - mean_absolute_error: 0.1361\n",
      "Epoch 9: val_loss improved from 0.14018 to 0.13809, saving model to unet_12L_100k_30e_imag.h5\n",
      "2813/2813 [==============================] - 1519s 540ms/step - loss: 0.1361 - mean_absolute_error: 0.1361 - val_loss: 0.1381 - val_mean_absolute_error: 0.1381\n",
      "Epoch 10/30\n",
      "2813/2813 [==============================] - ETA: 0s - loss: 0.1336 - mean_absolute_error: 0.1336\n",
      "Epoch 10: val_loss improved from 0.13809 to 0.13737, saving model to unet_12L_100k_30e_imag.h5\n",
      "2813/2813 [==============================] - 1553s 552ms/step - loss: 0.1336 - mean_absolute_error: 0.1336 - val_loss: 0.1374 - val_mean_absolute_error: 0.1374\n",
      "Epoch 11/30\n",
      "2813/2813 [==============================] - ETA: 0s - loss: 0.1315 - mean_absolute_error: 0.1315\n",
      "Epoch 11: val_loss improved from 0.13737 to 0.13564, saving model to unet_12L_100k_30e_imag.h5\n",
      "2813/2813 [==============================] - 1586s 564ms/step - loss: 0.1315 - mean_absolute_error: 0.1315 - val_loss: 0.1356 - val_mean_absolute_error: 0.1356\n",
      "Epoch 12/30\n",
      "2813/2813 [==============================] - ETA: 0s - loss: 0.1299 - mean_absolute_error: 0.1299\n",
      "Epoch 12: val_loss improved from 0.13564 to 0.13334, saving model to unet_12L_100k_30e_imag.h5\n",
      "2813/2813 [==============================] - 1522s 541ms/step - loss: 0.1299 - mean_absolute_error: 0.1299 - val_loss: 0.1333 - val_mean_absolute_error: 0.1333\n",
      "Epoch 13/30\n",
      "2813/2813 [==============================] - ETA: 0s - loss: 0.1282 - mean_absolute_error: 0.1282\n",
      "Epoch 13: val_loss did not improve from 0.13334\n",
      "2813/2813 [==============================] - 1556s 553ms/step - loss: 0.1282 - mean_absolute_error: 0.1282 - val_loss: 0.1362 - val_mean_absolute_error: 0.1362\n",
      "Epoch 14/30\n",
      "2813/2813 [==============================] - ETA: 0s - loss: 0.1268 - mean_absolute_error: 0.1268\n",
      "Epoch 14: val_loss did not improve from 0.13334\n",
      "2813/2813 [==============================] - 1573s 559ms/step - loss: 0.1268 - mean_absolute_error: 0.1268 - val_loss: 0.1376 - val_mean_absolute_error: 0.1376\n",
      "Epoch 15/30\n",
      "2813/2813 [==============================] - ETA: 0s - loss: 0.1254 - mean_absolute_error: 0.1254\n",
      "Epoch 15: val_loss improved from 0.13334 to 0.12988, saving model to unet_12L_100k_30e_imag.h5\n",
      "2813/2813 [==============================] - 1560s 554ms/step - loss: 0.1254 - mean_absolute_error: 0.1254 - val_loss: 0.1299 - val_mean_absolute_error: 0.1299\n",
      "Epoch 16/30\n",
      "2813/2813 [==============================] - ETA: 0s - loss: 0.1242 - mean_absolute_error: 0.1242\n",
      "Epoch 16: val_loss did not improve from 0.12988\n",
      "2813/2813 [==============================] - 1530s 544ms/step - loss: 0.1242 - mean_absolute_error: 0.1242 - val_loss: 0.1321 - val_mean_absolute_error: 0.1321\n",
      "Epoch 17/30\n",
      "2813/2813 [==============================] - ETA: 0s - loss: 0.1232 - mean_absolute_error: 0.1232\n",
      "Epoch 17: val_loss improved from 0.12988 to 0.12924, saving model to unet_12L_100k_30e_imag.h5\n",
      "2813/2813 [==============================] - 1530s 544ms/step - loss: 0.1232 - mean_absolute_error: 0.1232 - val_loss: 0.1292 - val_mean_absolute_error: 0.1292\n",
      "Epoch 18/30\n",
      "2813/2813 [==============================] - ETA: 0s - loss: 0.1220 - mean_absolute_error: 0.1220\n",
      "Epoch 18: val_loss did not improve from 0.12924\n",
      "2813/2813 [==============================] - 1503s 534ms/step - loss: 0.1220 - mean_absolute_error: 0.1220 - val_loss: 0.1340 - val_mean_absolute_error: 0.1340\n",
      "Epoch 19/30\n",
      "2813/2813 [==============================] - ETA: 0s - loss: 0.1211 - mean_absolute_error: 0.1211\n",
      "Epoch 19: val_loss improved from 0.12924 to 0.12772, saving model to unet_12L_100k_30e_imag.h5\n",
      "2813/2813 [==============================] - 1551s 551ms/step - loss: 0.1211 - mean_absolute_error: 0.1211 - val_loss: 0.1277 - val_mean_absolute_error: 0.1277\n",
      "Epoch 20/30\n",
      "2813/2813 [==============================] - ETA: 0s - loss: 0.1202 - mean_absolute_error: 0.1202\n",
      "Epoch 20: val_loss improved from 0.12772 to 0.12609, saving model to unet_12L_100k_30e_imag.h5\n",
      "2813/2813 [==============================] - 1535s 546ms/step - loss: 0.1202 - mean_absolute_error: 0.1202 - val_loss: 0.1261 - val_mean_absolute_error: 0.1261\n",
      "Epoch 21/30\n",
      "2813/2813 [==============================] - ETA: 0s - loss: 0.1195 - mean_absolute_error: 0.1195\n",
      "Epoch 21: val_loss improved from 0.12609 to 0.12577, saving model to unet_12L_100k_30e_imag.h5\n",
      "2813/2813 [==============================] - 1512s 537ms/step - loss: 0.1195 - mean_absolute_error: 0.1195 - val_loss: 0.1258 - val_mean_absolute_error: 0.1258\n",
      "Epoch 22/30\n",
      "2813/2813 [==============================] - ETA: 0s - loss: 0.1189 - mean_absolute_error: 0.1189\n",
      "Epoch 22: val_loss improved from 0.12577 to 0.12497, saving model to unet_12L_100k_30e_imag.h5\n",
      "2813/2813 [==============================] - 1530s 544ms/step - loss: 0.1189 - mean_absolute_error: 0.1189 - val_loss: 0.1250 - val_mean_absolute_error: 0.1250\n",
      "Epoch 23/30\n",
      "2813/2813 [==============================] - ETA: 0s - loss: 0.1178 - mean_absolute_error: 0.1178\n",
      "Epoch 23: val_loss improved from 0.12497 to 0.12465, saving model to unet_12L_100k_30e_imag.h5\n",
      "2813/2813 [==============================] - 1536s 546ms/step - loss: 0.1178 - mean_absolute_error: 0.1178 - val_loss: 0.1246 - val_mean_absolute_error: 0.1246\n",
      "Epoch 24/30\n",
      "2813/2813 [==============================] - ETA: 0s - loss: 0.1175 - mean_absolute_error: 0.1175\n",
      "Epoch 24: val_loss did not improve from 0.12465\n"
     ]
    },
    {
     "name": "stdout",
     "output_type": "stream",
     "text": [
      "2813/2813 [==============================] - 1536s 546ms/step - loss: 0.1175 - mean_absolute_error: 0.1175 - val_loss: 0.1249 - val_mean_absolute_error: 0.1249\n",
      "Epoch 25/30\n",
      "2813/2813 [==============================] - ETA: 0s - loss: 0.1167 - mean_absolute_error: 0.1167\n",
      "Epoch 25: val_loss did not improve from 0.12465\n",
      "2813/2813 [==============================] - 1553s 552ms/step - loss: 0.1167 - mean_absolute_error: 0.1167 - val_loss: 0.1274 - val_mean_absolute_error: 0.1274\n",
      "Epoch 26/30\n",
      "2813/2813 [==============================] - ETA: 0s - loss: 0.1160 - mean_absolute_error: 0.1160\n",
      "Epoch 26: val_loss did not improve from 0.12465\n",
      "2813/2813 [==============================] - 1694s 602ms/step - loss: 0.1160 - mean_absolute_error: 0.1160 - val_loss: 0.1247 - val_mean_absolute_error: 0.1247\n",
      "Epoch 27/30\n",
      "2813/2813 [==============================] - ETA: 0s - loss: 0.1157 - mean_absolute_error: 0.1157\n",
      "Epoch 27: val_loss improved from 0.12465 to 0.12361, saving model to unet_12L_100k_30e_imag.h5\n",
      "2813/2813 [==============================] - 1650s 586ms/step - loss: 0.1157 - mean_absolute_error: 0.1157 - val_loss: 0.1236 - val_mean_absolute_error: 0.1236\n",
      "Epoch 28/30\n",
      "2813/2813 [==============================] - ETA: 0s - loss: 0.1151 - mean_absolute_error: 0.1151\n",
      "Epoch 28: val_loss did not improve from 0.12361\n",
      "2813/2813 [==============================] - 1630s 579ms/step - loss: 0.1151 - mean_absolute_error: 0.1151 - val_loss: 0.1240 - val_mean_absolute_error: 0.1240\n",
      "Epoch 29/30\n",
      "2813/2813 [==============================] - ETA: 0s - loss: 0.1145 - mean_absolute_error: 0.1145\n",
      "Epoch 29: val_loss improved from 0.12361 to 0.12310, saving model to unet_12L_100k_30e_imag.h5\n",
      "2813/2813 [==============================] - 1542s 548ms/step - loss: 0.1145 - mean_absolute_error: 0.1145 - val_loss: 0.1231 - val_mean_absolute_error: 0.1231\n",
      "Epoch 30/30\n",
      "2813/2813 [==============================] - ETA: 0s - loss: 0.1141 - mean_absolute_error: 0.1141\n",
      "Epoch 30: val_loss did not improve from 0.12310\n",
      "2813/2813 [==============================] - 1549s 551ms/step - loss: 0.1141 - mean_absolute_error: 0.1141 - val_loss: 0.1252 - val_mean_absolute_error: 0.1252\n"
     ]
    },
    {
     "data": {
      "image/png": "[encoded data removed]",
      "text/plain": [
       "<Figure size 640x480 with 1 Axes>"
      ]
     },
     "metadata": {},
     "output_type": "display_data"
    }
   ],
   "source": [
    "model = unet_1d(input_shape)\n",
    "\n",
    "with tf.device('/device:CPU:0'):\n",
    "    model.compile(loss = 'mean_absolute_error',\n",
    "                 optimizer = \"adam\",\n",
    "                 metrics = ['mean_absolute_error'])\n",
    "\n",
    "checkpointer = tf.keras.callbacks.ModelCheckpoint('unet_12L_100k_30e_imag.h5', verbose=1, save_best_only=True)\n",
    "callbacks = [\n",
    "    checkpointer\n",
    "]\n",
    "\n",
    "results = model.fit(train_dataset_imag, epochs=30, validation_data=val_dataset_imag, callbacks=callbacks)\n",
    "\n",
    "\n",
    "plt.plot(results.history['val_loss'], 'o-', color = 'red')\n",
    "plt.plot(results.history['loss'], 'o-', color = 'green')\n",
    "plt.xlabel('epoch')\n",
    "\n",
    "np.save(\"trainLoss_12L_100k_imag.npy\", results.history['loss'])\n",
    "np.save(\"valLoss_12L_100k_imag.npy\", results.history['val_loss'])"
   ]
  },
  {
   "cell_type": "code",
   "execution_count": 21,
   "id": "ec34765e",
   "metadata": {},
   "outputs": [
    {
     "name": "stderr",
     "output_type": "stream",
     "text": [
      "2024-07-28 01:52:56.877676: I tensorflow/core/grappler/optimizers/custom_graph_optimizer_registry.cc:114] Plugin optimizer for device_type GPU is enabled.\n"
     ]
    },
    {
     "name": "stdout",
     "output_type": "stream",
     "text": [
      "32/32 [==============================] - 7s 156ms/step\n"
     ]
    }
   ],
   "source": [
    "model_new = unet_1d(input_shape)\n",
    "model_new.load_weights('unet_12L_100k_30e_imag.h5')\n",
    "\n",
    "predictions_imag = model_new.predict([x_test])\n",
    "#predictions_train_imag = model_new.predict([x_train])"
   ]
  },
  {
   "cell_type": "code",
   "execution_count": 22,
   "id": "3df03a42",
   "metadata": {},
   "outputs": [],
   "source": [
    "predictions_real = predictions_real.reshape((len(predictions_real), x_new_times_y_new))\n",
    "y_test_real = y_test_real.reshape((len(y_test_real), x_new_times_y_new))\n",
    "\n",
    "predictions_imag = predictions_imag.reshape((len(predictions_imag), x_new_times_y_new))\n",
    "y_test_imag = y_test_imag.reshape((len(y_test_imag), x_new_times_y_new))"
   ]
  },
  {
   "cell_type": "code",
   "execution_count": 23,
   "id": "5974084d",
   "metadata": {},
   "outputs": [
    {
     "data": {
      "text/plain": [
       "3840"
      ]
     },
     "execution_count": 23,
     "metadata": {},
     "output_type": "execute_result"
    }
   ],
   "source": [
    "predictions_real.shape\n",
    "len(predictions_real[0])"
   ]
  }
 ],
 "metadata": {
  "kernelspec": {
   "display_name": "Python 3 (ipykernel)",
   "language": "python",
   "name": "python3"
  },
  "language_info": {
   "codemirror_mode": {
    "name": "ipython",
    "version": 3
   },
   "file_extension": ".py",
   "mimetype": "text/x-python",
   "name": "python",
   "nbconvert_exporter": "python",
   "pygments_lexer": "ipython3",
   "version": "3.11.3"
  }
 },
 "nbformat": 4,
 "nbformat_minor": 5
}
